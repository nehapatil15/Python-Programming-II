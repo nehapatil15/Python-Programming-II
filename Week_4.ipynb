{
  "nbformat": 4,
  "nbformat_minor": 0,
  "metadata": {
    "colab": {
      "provenance": []
    },
    "kernelspec": {
      "name": "python3",
      "display_name": "Python 3"
    },
    "language_info": {
      "name": "python"
    }
  },
  "cells": [
    {
      "cell_type": "code",
      "execution_count": 1,
      "metadata": {
        "colab": {
          "base_uri": "https://localhost:8080/"
        },
        "id": "sQpKyYrkvX2o",
        "outputId": "d7540537-fc8e-431f-8d6b-206c7a53ad86"
      },
      "outputs": [
        {
          "output_type": "stream",
          "name": "stdout",
          "text": [
            "180 28\n"
          ]
        }
      ],
      "source": [
        "#1Write a Python program to create a Vehicle class with max_speed and mileage instance attributes.\n",
        "class Vehicle:\n",
        "    def __init__(self, max_speed, mileage):\n",
        "        self.max_speed = max_speed\n",
        "        self.mileage = mileage\n",
        "        \n",
        "        \n",
        "bike = Vehicle(180, 28)\n",
        "print(bike.max_speed, bike.mileage)\n"
      ]
    },
    {
      "cell_type": "code",
      "source": [
        "#2Create a Vehicle class without any variables and methods.\n",
        "class Vehicle:\n",
        "    pass\n"
      ],
      "metadata": {
        "id": "Ula0UdNVviDb"
      },
      "execution_count": 2,
      "outputs": []
    },
    {
      "cell_type": "code",
      "source": [
        "#3Create a child class Bus that will inherit all of the variables and methods of the Vehicle class\n",
        "\n",
        "class Vehicle:\n",
        "\n",
        "    def __init__(self, name, max_speed, mileage):\n",
        "        self.name = name\n",
        "        self.max_speed = max_speed\n",
        "        self.mileage = mileage\n",
        "\n",
        "class Bus(Vehicle):\n",
        "    pass\n",
        "\n",
        "bus = Bus(\"Mega_Bus \", 250, 15)\n",
        "print(\"Vehicle Name:\", bus.name, \"Speed:\", bus.max_speed, \"Mileage:\",bus.mileage)\n"
      ],
      "metadata": {
        "colab": {
          "base_uri": "https://localhost:8080/"
        },
        "id": "cizY2wHgvkH4",
        "outputId": "669c7a2f-ebba-466e-a9d9-c827829c492e"
      },
      "execution_count": 3,
      "outputs": [
        {
          "output_type": "stream",
          "name": "stdout",
          "text": [
            "Vehicle Name: Mega_Bus  Speed: 250 Mileage: 15\n"
          ]
        }
      ]
    },
    {
      "cell_type": "code",
      "source": [
        "#4 Create a Bus class that inherits from the Vehicle class. Give the capacity argument of Bus.seating_capacity() a default value of 50.\n",
        "class Vehicle:\n",
        "    def __init__(self, name, max_speed, mileage):\n",
        "        self.name = name\n",
        "        self.max_speed = max_speed\n",
        "        self.mileage = mileage\n",
        "\n",
        "    def seating_capacity(self, capacity):\n",
        "        return f\"The seating capacity of a {self.name} is {capacity} passengers\"\n",
        "\n",
        "class Bus(Vehicle):\n",
        "    \n",
        "    def seating_capacity(self, capacity=50):\n",
        "        return super().seating_capacity(capacity=50)\n",
        "bus = Bus(\"Mega Bus\", 180, 12)\n",
        "print(bus.seating_capacity())\n"
      ],
      "metadata": {
        "colab": {
          "base_uri": "https://localhost:8080/"
        },
        "id": "ZtBzqBmTvoe5",
        "outputId": "4ee090d3-08b2-466b-8345-774dab58ebe5"
      },
      "execution_count": 4,
      "outputs": [
        {
          "output_type": "stream",
          "name": "stdout",
          "text": [
            "The seating capacity of a Mega Bus is 50 passengers\n"
          ]
        }
      ]
    },
    {
      "cell_type": "code",
      "source": [
        "#5 Create a Bus child class that inherits from the Vehicle class. The default fare charge of any vehicle is seating capacity * 100. If Vehicle is Bus instance, we need to add an extra 10% on full fare as a maintenance charge. So total fare for bus instance will become the final amount = total fare + 10% of the total fare.\n",
        "class Vehicle:\n",
        "    def __init__(self, name, mileage, capacity):\n",
        "        self.name = name\n",
        "        self.mileage = mileage\n",
        "        self.capacity = capacity\n",
        "\n",
        "    def fare(self):\n",
        "        return self.capacity * 100\n",
        "\n",
        "class Bus(Vehicle):\n",
        "    def fare(self):\n",
        "        amount = super().fare()\n",
        "        amount += amount * 10 / 100\n",
        "        return amount\n",
        "\n",
        "bus = Bus(\"Mega bus\", 12, 50)\n",
        "print(\"Total Bus fare is:\", bus.fare())\n"
      ],
      "metadata": {
        "colab": {
          "base_uri": "https://localhost:8080/"
        },
        "id": "HQwUdlfAvswf",
        "outputId": "41262809-e15f-4dde-cb26-e9bab290b722"
      },
      "execution_count": 5,
      "outputs": [
        {
          "output_type": "stream",
          "name": "stdout",
          "text": [
            "Total Bus fare is: 5500.0\n"
          ]
        }
      ]
    }
  ]
}