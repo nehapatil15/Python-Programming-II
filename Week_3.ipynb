{
  "nbformat": 4,
  "nbformat_minor": 0,
  "metadata": {
    "colab": {
      "provenance": [],
      "toc_visible": true
    },
    "kernelspec": {
      "name": "python3",
      "display_name": "Python 3"
    },
    "language_info": {
      "name": "python"
    }
  },
  "cells": [
    {
      "cell_type": "markdown",
      "source": [
        "SECTION A"
      ],
      "metadata": {
        "id": "YQWLHJmOtbFT"
      }
    },
    {
      "cell_type": "code",
      "source": [
        "#1\n",
        "def evendiv(x,y,z):\n",
        "    return(sum(list([i for i in range(x, y+1) if i%z==0])))\n",
        "\n",
        "print(evendiv(1,10,2))\n"
      ],
      "metadata": {
        "colab": {
          "base_uri": "https://localhost:8080/"
        },
        "id": "fTt-SF67qvFq",
        "outputId": "4a0791c0-1b76-4c51-a708-0f7b95cd587d"
      },
      "execution_count": 15,
      "outputs": [
        {
          "output_type": "stream",
          "name": "stdout",
          "text": [
            "30\n"
          ]
        }
      ]
    },
    {
      "cell_type": "code",
      "source": [
        "#2\n",
        "def check(s):\n",
        "    x=eval(s)\n",
        "    if x:\n",
        "        return True\n",
        "    else:\n",
        "     return False \n",
        "\n",
        "print(check(\"2 < 7 < 15\"))\n",
        "print(check(\"30 > 45 > 21 > 9\"))\n",
        "print(check(\"4 < 7 < 8< 12 > 2\"))\n"
      ],
      "metadata": {
        "colab": {
          "base_uri": "https://localhost:8080/"
        },
        "id": "lzKJGU-pquPt",
        "outputId": "34f1a2fa-58ad-4277-a9ba-399505f41731"
      },
      "execution_count": 16,
      "outputs": [
        {
          "output_type": "stream",
          "name": "stdout",
          "text": [
            "True\n",
            "False\n",
            "True\n"
          ]
        }
      ]
    },
    {
      "cell_type": "code",
      "source": [
        "#3\n",
        "print(\"Enter the String: \")\n",
        "str = input()\n",
        "\n",
        "print(\"Enter a character: \")\n",
        "char = input()\n",
        "\n",
        "newstr = \"\"\n",
        "for i in range(len(str)):\n",
        "    if str[i]=='a' or str[i]=='e' or str[i]=='i' or str[i]=='o' or str[i]=='u':\n",
        "        newstr = newstr + char\n",
        "    else:\n",
        "        newstr = newstr + str[i]\n",
        "\n",
        "print(\"\\nOriginal String:\", str)\n",
        "print(\"New String:\", newstr)\n"
      ],
      "metadata": {
        "colab": {
          "base_uri": "https://localhost:8080/"
        },
        "id": "nkxWgJhXq6Yj",
        "outputId": "eabd88ae-7432-4c03-da11-354a7555bbf7"
      },
      "execution_count": 17,
      "outputs": [
        {
          "output_type": "stream",
          "name": "stdout",
          "text": [
            "Enter the String: \n",
            "Neha\n",
            "Enter a character: \n",
            "x\n",
            "\n",
            "Original String: Neha\n",
            "New String: Nxhx\n"
          ]
        }
      ]
    },
    {
      "cell_type": "code",
      "source": [
        "#4\n",
        "def factorial(n):\n",
        "      \n",
        "    if n == 0:\n",
        "        return 1\n",
        "     \n",
        "    return n * factorial(n-1)\n",
        "  \n",
        "\n",
        "num = 10;\n",
        "print(\"Factorial of\", num, \"is\",\n",
        "factorial(num))"
      ],
      "metadata": {
        "colab": {
          "base_uri": "https://localhost:8080/"
        },
        "id": "bxO9-PXlrJHr",
        "outputId": "c165fd00-3a48-4f55-a170-c13741596ab6"
      },
      "execution_count": 19,
      "outputs": [
        {
          "output_type": "stream",
          "name": "stdout",
          "text": [
            "Factorial of 10 is 3628800\n"
          ]
        }
      ]
    },
    {
      "cell_type": "code",
      "source": [
        "#5\n",
        "def hammingDist(str1, str2):\n",
        "    i = 0\n",
        "    count = 0\n",
        " \n",
        "    while(i < len(str1)):\n",
        "        if(str1[i] != str2[i]):\n",
        "            count += 1\n",
        "        i += 1\n",
        "    return count\n",
        " \n",
        "\n",
        "str1 = \"abcde\"\n",
        "str2 = \"cdefg\"\n",
        " \n",
        "\n",
        "print(hammingDist(str1, str2))"
      ],
      "metadata": {
        "colab": {
          "base_uri": "https://localhost:8080/"
        },
        "id": "behwmj8ZrQOa",
        "outputId": "ddf14543-a918-4747-ec70-1d8dbe006174"
      },
      "execution_count": 20,
      "outputs": [
        {
          "output_type": "stream",
          "name": "stdout",
          "text": [
            "5\n"
          ]
        }
      ]
    },
    {
      "cell_type": "markdown",
      "source": [
        "SECTION B"
      ],
      "metadata": {
        "id": "vDT4feA9tWGh"
      }
    },
    {
      "cell_type": "code",
      "source": [
        "#1\n",
        "l = [1,2,'a','b']\n",
        "\n",
        "def filter_list(l):\n",
        "    new_list = []\n",
        "    for x in l:\n",
        "        if type(x) == int:\n",
        "            new_list.append(x)\n",
        "    return new_list\n",
        "\n",
        "print(filter_list(l))\n"
      ],
      "metadata": {
        "colab": {
          "base_uri": "https://localhost:8080/"
        },
        "id": "yF_eQaRnrZYt",
        "outputId": "c0707a86-c970-4a1e-e1bc-50e446daa3b4"
      },
      "execution_count": 21,
      "outputs": [
        {
          "output_type": "stream",
          "name": "stdout",
          "text": [
            "[1, 2]\n"
          ]
        }
      ]
    },
    {
      "cell_type": "code",
      "source": [
        "#2\n",
        "def string(str1):\n",
        "\n",
        "    rstr1 = ''\n",
        "    index = len(str1)\n",
        "    while index > 0:\n",
        "        rstr1 += str1[ index - 1 ]\n",
        "        index = index - 1\n",
        "    return rstr1\n",
        "print(string('Vedant').swapcase())\n"
      ],
      "metadata": {
        "colab": {
          "base_uri": "https://localhost:8080/"
        },
        "id": "FEBSzsjWrd1Y",
        "outputId": "b43ba973-6369-460b-86e4-7447ddcafef4"
      },
      "execution_count": 22,
      "outputs": [
        {
          "output_type": "stream",
          "name": "stdout",
          "text": [
            "TNADEv\n"
          ]
        }
      ]
    },
    {
      "cell_type": "code",
      "source": [
        "#3\n",
        "list=[1,6,8,9,5,4,\"Ved\",\"car\",\"class\",69]\n",
        "first=list[0]\n",
        "middle=list[1:-1]\n",
        "last=list[-1]\n",
        "print(\"first =\",first ,\"middle =\",middle,\"last = \",last)\n"
      ],
      "metadata": {
        "colab": {
          "base_uri": "https://localhost:8080/"
        },
        "id": "P0NN47k6rjhD",
        "outputId": "c6924160-b372-4070-b690-412c0017df27"
      },
      "execution_count": 23,
      "outputs": [
        {
          "output_type": "stream",
          "name": "stdout",
          "text": [
            "first = 1 middle = [6, 8, 9, 5, 4, 'Ved', 'car', 'class'] last =  69\n"
          ]
        }
      ]
    },
    {
      "cell_type": "code",
      "source": [
        "#4\n",
        "def recur_factorial(n):\n",
        "   if n == 1:\n",
        "       return n\n",
        "   else:\n",
        "       return n*recur_factorial(n-1)\n",
        "\n",
        "num = int(input(\"Enter the number : \"))\n",
        "\n",
        "\n",
        "if num < 0:\n",
        "   print(\"Sorry, factorial does not exist for negative numbers\")\n",
        "elif num == 0:\n",
        "   print(\"The factorial of 0 is 1\")\n",
        "else:\n",
        "   print(\"The factorial of\", num, \"is\", recur_factorial(num))\n"
      ],
      "metadata": {
        "colab": {
          "base_uri": "https://localhost:8080/"
        },
        "id": "n8vw79SVrn1r",
        "outputId": "74cd11a5-65d2-4ef6-e6c7-95d30827fd29"
      },
      "execution_count": 25,
      "outputs": [
        {
          "output_type": "stream",
          "name": "stdout",
          "text": [
            "Enter the number : 20\n",
            "The factorial of 20 is 2432902008176640000\n"
          ]
        }
      ]
    },
    {
      "cell_type": "code",
      "source": [
        "#5Write a function that moves all elements of one type to the end of the list.\n",
        "def move_to_end(lst,el):\n",
        "    lst.append(lst.pop(lst.index(el)))\n",
        "    return lst\n",
        "\n",
        "print(move_to_end([1, 3, 2, 4, 4, 1], 1))\n",
        "print(move_to_end([7, 8, 9, 1, 2, 3, 4], 9))\n",
        "print(move_to_end([\"a\",\"a\",\"a\",\"b\"], \"a\"))\n"
      ],
      "metadata": {
        "colab": {
          "base_uri": "https://localhost:8080/"
        },
        "id": "TW7AfEFTrxNs",
        "outputId": "74f0b2dc-1c3b-4ec9-fc8b-f1c97c53256f"
      },
      "execution_count": 26,
      "outputs": [
        {
          "output_type": "stream",
          "name": "stdout",
          "text": [
            "[3, 2, 4, 4, 1, 1]\n",
            "[7, 8, 1, 2, 3, 4, 9]\n",
            "['a', 'a', 'b', 'a']\n"
          ]
        }
      ]
    },
    {
      "cell_type": "markdown",
      "source": [
        "SECTION C"
      ],
      "metadata": {
        "id": "Td-gOC4ntOLj"
      }
    },
    {
      "cell_type": "code",
      "source": [
        "#1\n",
        "def multichar(text, n):\n",
        "    return ''.join([x * n for x in text])\n",
        "multichar(\"Neha\",2)\n"
      ],
      "metadata": {
        "colab": {
          "base_uri": "https://localhost:8080/",
          "height": 36
        },
        "id": "zie3cMtZr2vh",
        "outputId": "a36f6c20-7576-43ac-d53b-6fe444aaaa50"
      },
      "execution_count": 28,
      "outputs": [
        {
          "output_type": "execute_result",
          "data": {
            "text/plain": [
              "'NNeehhaa'"
            ],
            "application/vnd.google.colaboratory.intrinsic+json": {
              "type": "string"
            }
          },
          "metadata": {},
          "execution_count": 28
        }
      ]
    },
    {
      "cell_type": "code",
      "source": [
        "#2\n",
        "def reverse(arg):\n",
        "\tif isinstance(arg, bool):\n",
        "\t\treturn not arg\n",
        "\telse:\n",
        "\t\treturn('boolean expected')\n",
        "\n",
        "def reverse(arg=None):\n",
        "\treturn not arg if type(arg) == bool else \"boolean expected\"\n",
        "\n",
        "print(reverse(True)) \n",
        "print(reverse(False)) \n",
        "print(reverse(0)) \n",
        "print(reverse(None))\n"
      ],
      "metadata": {
        "colab": {
          "base_uri": "https://localhost:8080/"
        },
        "id": "E4BKe-7hsAzc",
        "outputId": "beab754c-d55c-4213-87b3-ba4608dcaed9"
      },
      "execution_count": 29,
      "outputs": [
        {
          "output_type": "stream",
          "name": "stdout",
          "text": [
            "False\n",
            "True\n",
            "boolean expected\n",
            "boolean expected\n"
          ]
        }
      ]
    },
    {
      "cell_type": "code",
      "source": [
        "#3\n",
        "def fn(a):\n",
        "    res = 0.5\n",
        "    for i in range(a):\n",
        "        res *= 2\n",
        "    \n",
        "    return res / 1000 \n",
        "fn(1)\n"
      ],
      "metadata": {
        "colab": {
          "base_uri": "https://localhost:8080/"
        },
        "id": "_iJpB4U0sHz5",
        "outputId": "4693d040-bc4d-42fb-9396-fdb2655df45e"
      },
      "execution_count": 41,
      "outputs": [
        {
          "output_type": "execute_result",
          "data": {
            "text/plain": [
              "0.001"
            ]
          },
          "metadata": {},
          "execution_count": 41
        }
      ]
    },
    {
      "cell_type": "code",
      "source": [
        "#5\n",
        "\n",
        "listl=[i for i in range (4) if(i%2==0)]\n",
        "\n",
        "print(listl)\n"
      ],
      "metadata": {
        "colab": {
          "base_uri": "https://localhost:8080/"
        },
        "id": "qRvL8lMDsaQ2",
        "outputId": "76739d7d-f829-4e2e-b6d0-34bb7d90498d"
      },
      "execution_count": 39,
      "outputs": [
        {
          "output_type": "stream",
          "name": "stdout",
          "text": [
            "[0, 2]\n"
          ]
        }
      ]
    },
    {
      "cell_type": "markdown",
      "source": [
        "SECTION D"
      ],
      "metadata": {
        "id": "e4zCySBPtKHX"
      }
    },
    {
      "cell_type": "code",
      "source": [
        "#1\n",
        "l = [6,9,4,'ved','budukale']\n",
        "output = [x for x in l if type(x) != str]\n",
        "print(output)\n"
      ],
      "metadata": {
        "colab": {
          "base_uri": "https://localhost:8080/"
        },
        "id": "MULEqnetsfZV",
        "outputId": "4461828e-e4e3-46d1-bd71-7d56e87d428b"
      },
      "execution_count": 35,
      "outputs": [
        {
          "output_type": "stream",
          "name": "stdout",
          "text": [
            "[6, 9, 4, 'ved', 'budukale']\n"
          ]
        }
      ]
    },
    {
      "cell_type": "code",
      "source": [
        "#3\n",
        "import math\n",
        "pi = math.pi\n",
        "def volume(r, h):\n",
        "    return (1 / 3) * pi * r * r * h\n",
        "def surfacearea(r, s):\n",
        "    return pi * r * s + pi * r * r\n",
        "radius = float(2)\n",
        "height = float(3)\n",
        "slat_height = float(5)\n",
        "print( \"Volume Of Cone : \", volume(radius, height) )\n",
        "print( \"Surface Area Of Cone : \", surfacearea(radius, slat_height) )"
      ],
      "metadata": {
        "colab": {
          "base_uri": "https://localhost:8080/"
        },
        "id": "orarWKtQsmDY",
        "outputId": "01a70519-46fe-4d9f-ccd9-a8a5ea833565"
      },
      "execution_count": 38,
      "outputs": [
        {
          "output_type": "stream",
          "name": "stdout",
          "text": [
            "Volume Of Cone :  12.566370614359172\n",
            "Surface Area Of Cone :  43.982297150257104\n"
          ]
        }
      ]
    },
    {
      "cell_type": "code",
      "source": [
        "#5\n",
        "def missing_num(lst):\n",
        "\n",
        "   for n in range(1,11):\n",
        "\n",
        "       if n not in lst:\n",
        "\n",
        "           print(n)\n",
        "\n",
        "lst = (1,3,4,5,6,7,8,9,10)\n",
        "\n"
      ],
      "metadata": {
        "id": "Bm-3lAoXsuRw"
      },
      "execution_count": 37,
      "outputs": []
    }
  ]
}