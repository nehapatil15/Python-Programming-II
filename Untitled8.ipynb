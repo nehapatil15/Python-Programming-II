{
  "nbformat": 4,
  "nbformat_minor": 0,
  "metadata": {
    "colab": {
      "provenance": []
    },
    "kernelspec": {
      "name": "python3",
      "display_name": "Python 3"
    },
    "language_info": {
      "name": "python"
    }
  },
  "cells": [
    {
      "cell_type": "markdown",
      "source": [
        "SECTION A\n",
        "\n",
        "1)Create a function that takes three integer arguments (a, b, c) and returns the amount of integers which are of equal value\n"
      ],
      "metadata": {
        "id": "84AYFGlYYHiY"
      }
    },
    {
      "cell_type": "code",
      "execution_count": 1,
      "metadata": {
        "colab": {
          "base_uri": "https://localhost:8080/"
        },
        "id": "qfa8jUVxWzk1",
        "outputId": "ad996e85-47d7-4ea1-8012-6a8841585328"
      },
      "outputs": [
        {
          "output_type": "stream",
          "name": "stdout",
          "text": [
            "3\n",
            "0\n"
          ]
        }
      ],
      "source": [
        "def sum(x, y, z):\n",
        "  if x == y or y == z or z == x:\n",
        "    sum = 3\n",
        "  else:\n",
        "    sum = 0\n",
        "  return sum\n",
        "print(sum(5, 5, 5))\n",
        "print(sum(3, 4, 1))\n"
      ]
    },
    {
      "cell_type": "markdown",
      "source": [
        "2)Write a function that converts a dictionary into a list of keys-values tuples.\n",
        "\n"
      ],
      "metadata": {
        "id": "HRuYFfWRYPdJ"
      }
    },
    {
      "cell_type": "code",
      "source": [
        "def DtoLoT(dict):\n",
        "    dict = {'om':33, 'ajay':63, 'chetan':25, 'vedant':45}\n",
        "    list = [(k, v) for k, v in dict.items()]\n",
        "\n",
        "    list.sort(key = lambda x: x[0])\n",
        "    return list\n",
        "\n",
        "print(DtoLoT(dict))"
      ],
      "metadata": {
        "colab": {
          "base_uri": "https://localhost:8080/"
        },
        "id": "H0BI7qLyXU5Q",
        "outputId": "c8e6fc95-4d6a-49da-e5c6-665d10811047"
      },
      "execution_count": 2,
      "outputs": [
        {
          "output_type": "stream",
          "name": "stdout",
          "text": [
            "[('ajay', 63), ('chetan', 25), ('om', 33), ('vedant', 45)]\n"
          ]
        }
      ]
    },
    {
      "cell_type": "markdown",
      "source": [
        "3)Write a function that creates a dictionary with each (key, value) pair being the (lower case, upper case) versions of a letter, respectively"
      ],
      "metadata": {
        "id": "NBXTert_YuQc"
      }
    },
    {
      "cell_type": "code",
      "source": [
        "def function2(list):\n",
        " list = [\"a\", \"b\", \"c\", \"d\"]\n",
        " b = dict((i, i.upper()) for i in list)\n",
        " return b\n",
        "    \n",
        "print(function2(list))\n"
      ],
      "metadata": {
        "colab": {
          "base_uri": "https://localhost:8080/"
        },
        "id": "5T40ftqSXZA5",
        "outputId": "b10ff9ac-7fd5-4bd4-edd2-55b0163c4220"
      },
      "execution_count": 3,
      "outputs": [
        {
          "output_type": "stream",
          "name": "stdout",
          "text": [
            "{'a': 'A', 'b': 'B', 'c': 'C', 'd': 'D'}\n"
          ]
        }
      ]
    },
    {
      "cell_type": "markdown",
      "source": [
        "4)Write a function, that replaces all vowels in a string with a specified vowel.\n",
        "\n"
      ],
      "metadata": {
        "id": "tQuoFqyKYaDW"
      }
    },
    {
      "cell_type": "code",
      "source": [
        "def replaceVowels(str, K):\n",
        "    vowels = 'aeiou'\n",
        "    for i in vowels:\n",
        "        str = str.replace(i, K)\n",
        "    return str\n",
        "input_str = \"Python is computer language\"\n",
        "K = \"e\"\n",
        "print(\"Input string =\", input_str)\n",
        "print(\"Specified vowel =\", K)\n",
        "print(\"After replacing =\", replaceVowels(input_str, K))\n"
      ],
      "metadata": {
        "colab": {
          "base_uri": "https://localhost:8080/"
        },
        "id": "5AafBKpEXa43",
        "outputId": "b6acc62d-a31e-445b-c883-ee7d216de806"
      },
      "execution_count": 4,
      "outputs": [
        {
          "output_type": "stream",
          "name": "stdout",
          "text": [
            "Input string = Python is computer language\n",
            "Specified vowel = e\n",
            "After replacing = Pythen es cempeter lengeege\n"
          ]
        }
      ]
    },
    {
      "cell_type": "markdown",
      "source": [
        "5)Create a function that takes a string as input and capitalizes a letter if its ASCII code is even and returns its lower case version if its ASCII code is odd.\n",
        "\n"
      ],
      "metadata": {
        "id": "lWx4h1HwYflv"
      }
    },
    {
      "cell_type": "code",
      "source": [
        "def Python(sy):\n",
        "  ab = []\n",
        "  for index, c in enumerate(sy):\n",
        "    if index % 2 == 0:\n",
        "      ab.append(c.upper())\n",
        "    else:\n",
        "      ab.append(c.lower())\n",
        "  return '' .join(ab)\n",
        "print(Python(\"Python is computer language:\"))\n"
      ],
      "metadata": {
        "colab": {
          "base_uri": "https://localhost:8080/"
        },
        "id": "Y3coq4XCXilF",
        "outputId": "0f2d7ff5-d21c-43a3-cb5c-95c69573350d"
      },
      "execution_count": 5,
      "outputs": [
        {
          "output_type": "stream",
          "name": "stdout",
          "text": [
            "PyThOn iS CoMpUtEr lAnGuAgE:\n"
          ]
        }
      ]
    },
    {
      "cell_type": "markdown",
      "source": [
        "SECTION B\n",
        "\n"
      ],
      "metadata": {
        "id": "VNlwUx6WYkiD"
      }
    },
    {
      "cell_type": "code",
      "source": [
        "def fact(n):\n",
        "  fact=1\n",
        "  for i in range(1,n+1):\n",
        "    fact=fact*i\n",
        "  print(fact)  \n",
        "fact(5)\n"
      ],
      "metadata": {
        "colab": {
          "base_uri": "https://localhost:8080/"
        },
        "id": "U9NdM0R4XoD-",
        "outputId": "e1a20e69-9d2f-4bc2-8e13-31c131bc2cb3"
      },
      "execution_count": 6,
      "outputs": [
        {
          "output_type": "stream",
          "name": "stdout",
          "text": [
            "120\n"
          ]
        }
      ]
    },
    {
      "cell_type": "code",
      "source": [
        "def rotate(a,d):\n",
        "    n=len(a)\n",
        "    a[:]=a[d:n]+a[0:d]\n",
        "    return a\n",
        "a = [3,4,5,6,8,9,1]\n",
        "print(\"Rotated list is\")\n",
        "print(rotate(a,1))"
      ],
      "metadata": {
        "colab": {
          "base_uri": "https://localhost:8080/"
        },
        "id": "Sl0O1IMSXuVC",
        "outputId": "ac5899c1-af74-4e70-f24b-bd45dba0d708"
      },
      "execution_count": 7,
      "outputs": [
        {
          "output_type": "stream",
          "name": "stdout",
          "text": [
            "Rotated list is\n",
            "[4, 5, 6, 8, 9, 1, 3]\n"
          ]
        }
      ]
    },
    {
      "cell_type": "code",
      "source": [
        "colors={}\n",
        "def insert(a):\n",
        "  if a in colors:\n",
        "    colors[a]+=1\n",
        "  else:\n",
        "    colors[a]=1  \n",
        "insert('Red')\n",
        "insert('green')\n",
        "insert('Blue')\n",
        "insert('White')\n",
        "insert('Red')\n",
        "print(len(colors))\n"
      ],
      "metadata": {
        "colab": {
          "base_uri": "https://localhost:8080/"
        },
        "id": "ChqzCBTmXv7t",
        "outputId": "08d2804b-0ee4-4632-8686-98aba9023a83"
      },
      "execution_count": 8,
      "outputs": [
        {
          "output_type": "stream",
          "name": "stdout",
          "text": [
            "4\n"
          ]
        }
      ]
    },
    {
      "cell_type": "code",
      "source": [
        "def sumlist(list):\n",
        "    sum=0\n",
        "    for i in range(len(list)):\n",
        "        sum = sum+list[i]\n",
        "    return sum\n",
        "list = [20,40,60]\n",
        "print(list)\n",
        "print(\"sum of list: \",sumlist(list))\n"
      ],
      "metadata": {
        "colab": {
          "base_uri": "https://localhost:8080/"
        },
        "id": "HKLy3hzvX1Wm",
        "outputId": "37c55a04-8205-4965-99eb-d57046bce387"
      },
      "execution_count": 9,
      "outputs": [
        {
          "output_type": "stream",
          "name": "stdout",
          "text": [
            "[20, 40, 60]\n",
            "sum of list:  120\n"
          ]
        }
      ]
    },
    {
      "cell_type": "code",
      "source": [
        "def mul_list(list) :         \n",
        "    product = 1\n",
        "    for i in list:\n",
        "         product = product * i\n",
        "    return product     \n",
        "list1 = [5,6,7,8]\n",
        "print(list1)\n",
        "print(\"product: \") \n",
        "print(mul_list(list1))\n"
      ],
      "metadata": {
        "colab": {
          "base_uri": "https://localhost:8080/"
        },
        "id": "bSX7H1XSX4jV",
        "outputId": "61beb61f-5b71-4662-992b-2925d12e6d1d"
      },
      "execution_count": 10,
      "outputs": [
        {
          "output_type": "stream",
          "name": "stdout",
          "text": [
            "[5, 6, 7, 8]\n",
            "product: \n",
            "1680\n"
          ]
        }
      ]
    }
  ]
}